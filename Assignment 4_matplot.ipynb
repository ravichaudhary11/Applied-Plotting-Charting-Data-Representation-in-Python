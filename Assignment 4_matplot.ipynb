{
 "cells": [
  {
   "cell_type": "code",
   "execution_count": 16,
   "metadata": {},
   "outputs": [],
   "source": [
    "import pandas as pd\n",
    "import numpy as np\n",
    "import matplotlib.pyplot as plt\n",
    "\n",
    "df = pd.read_excel('Data_Extract_From_World_Development_Indicators.xlsx', skipfooter=7)\n",
    "df = df[(df['Country Name'] == 'Turkey') | (df['Country Name'] == 'Iraq') | (df['Country Name'] == 'Greece') | (df['Country Name'] == 'Armenia') | (df['Country Name'] == 'Georgia') | (df['Country Name'] == 'Bulgaria') | (df['Country Name'] == 'Iran, Islamic Rep.') | (df['Country Name'] == 'Azerbaijan')] \n",
    "df = df.reset_index()\n",
    "cols = [0, 1, 2,3, 5,6,16]\n",
    "df.drop(df.columns[cols], inplace=True, axis=1)\n",
    "\n",
    "df.columns = ['Code', '2008', '2009', '2010', '2011', '2012', '2013', '2014', '2015', '2016']\n",
    "\n",
    "cols = df.columns.drop('Code')\n",
    "df[cols] = df[cols].apply(pd.to_numeric, errors='coerce')\n",
    "df = df.set_index('Code')\n",
    "df = df.T\n",
    "#plt.style.use('seaborn-colorblind')\n",
    "df.plot(colormap='Set1', figsize=(12,5), lw=4);\n",
    "plt.xlabel('Years')\n",
    "plt.ylabel('GDP in US Dollars $')\n",
    "plt.title('Turkey and Neighboring Countries GDP 2008-2016')\n",
    "plt.show()\n"
   ]
  }
 ],
 "metadata": {
  "kernelspec": {
   "display_name": "Python 3",
   "language": "python",
   "name": "python3"
  },
  "language_info": {
   "codemirror_mode": {
    "name": "ipython",
    "version": 3
   },
   "file_extension": ".py",
   "mimetype": "text/x-python",
   "name": "python",
   "nbconvert_exporter": "python",
   "pygments_lexer": "ipython3",
   "version": "3.7.5rc1"
  }
 },
 "nbformat": 4,
 "nbformat_minor": 2
}
